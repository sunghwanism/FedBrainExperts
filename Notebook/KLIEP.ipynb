{
 "cells": [
  {
   "cell_type": "code",
   "execution_count": 1,
   "metadata": {},
   "outputs": [],
   "source": [
    "import os\n",
    "import sys\n",
    "sys.path.append('../')\n",
    "\n",
    "# from src.model.KLIEP import *\n",
    "import numpy as np\n",
    "import torch\n",
    "import torch.nn as nn\n",
    "\n",
    "import argparse\n",
    "import json\n",
    "\n",
    "from copy import deepcopy\n",
    "\n",
    "import torch.nn as nn\n",
    "\n",
    "from src.simulator.utils import generate_model"
   ]
  },
  {
   "cell_type": "code",
   "execution_count": 2,
   "metadata": {},
   "outputs": [],
   "source": [
    "def load_config(config_path, proj_name):\n",
    "    PATH = os.path.join(config_path, f\"config_{proj_name}.json\")\n",
    "    with open(PATH, 'r') as f:\n",
    "        config = json.load(f)\n",
    "    return config\n",
    "\n",
    "def load_model(model_name, modelPATH, config, device):\n",
    "    # device = torch.device('cpu')\n",
    "    PATH = os.path.join(modelPATH, model_name)\n",
    "    model_dict = torch.load(PATH, map_location=device)\n",
    "\n",
    "    global_model = generate_model(config).to(device)\n",
    "    \n",
    "    if (config.agg_method != \"Center\") and (config.agg_method != \"Local\"):\n",
    "        global_model.load_state_dict(model_dict['global_model'], strict=False)\n",
    "        local_model_dict = model_dict['local_model']\n",
    "        \n",
    "    else:\n",
    "        global_model.load_state_dict(model_dict['model'], strict=False)\n",
    "        local_model_dict = None\n",
    "\n",
    "    return global_model, local_model_dict\n",
    "\n",
    "def load_model(model_name, modelPATH, config, device):\n",
    "    # device = torch.device('cpu')\n",
    "    PATH = os.path.join(modelPATH, model_name)\n",
    "    model_dict = torch.load(PATH, map_location=device)\n",
    "\n",
    "    global_model = generate_model(config).to(device)\n",
    "    \n",
    "    if (config.agg_method != \"Center\") and (config.agg_method != \"Local\"):\n",
    "        global_model.load_state_dict(model_dict['global_model'], strict=False)\n",
    "        local_model_dict = model_dict['local_model']\n",
    "        \n",
    "    else:\n",
    "        global_model.load_state_dict(model_dict['model'], strict=False)\n",
    "        local_model_dict = None\n",
    "\n",
    "    return global_model, local_model_dict"
   ]
  },
  {
   "cell_type": "code",
   "execution_count": null,
   "metadata": {},
   "outputs": [],
   "source": [
    "batch_size =16\n",
    "source_data = torch.tensor(np.random.normal(0, 1, (batch_size, 96, 128, 96)), dtype=torch.float32)\n",
    "source_data = source_data.unsqueeze(1)\n",
    "print(source_data.shape)"
   ]
  },
  {
   "cell_type": "code",
   "execution_count": 4,
   "metadata": {},
   "outputs": [],
   "source": [
    "basePATH = \"/NFS/Users/moonsh/AdaptFL/ckpt/\""
   ]
  },
  {
   "cell_type": "code",
   "execution_count": 38,
   "metadata": {},
   "outputs": [],
   "source": [
    "ckptPATH = os.path.join(basePATH, \"Center\", \"dandy-shadow-1\")\n",
    "config = load_config(ckptPATH, \"dandy-shadow-1\")\n",
    "config['batch_size'] = 32\n",
    "config['num_workers'] = 2\n",
    "config['nowandb'] = True\n",
    "config = argparse.Namespace(**config)\n",
    "\n",
    "model_name = f'Center_best_model_dandy-shadow-1.pth'\n",
    "local_model = load_model(model_name, ckptPATH, config, torch.device('cpu'))\n",
    "local_model = local_model[0]"
   ]
  },
  {
   "cell_type": "code",
   "execution_count": 40,
   "metadata": {},
   "outputs": [],
   "source": [
    "wandb_name = \"fresh-feather-2\"\n",
    "\n",
    "ckptPATH = os.path.join(basePATH, \"FedAvg\", wandb_name)\n",
    "config = load_config(ckptPATH, wandb_name)\n",
    "config['batch_size'] = 32\n",
    "config['num_workers'] = 2\n",
    "config['nowandb'] = True\n",
    "config = argparse.Namespace(**config)\n",
    "\n",
    "model_name = f'fresh-feather-2_best_round_050.pth'\n",
    "glob_model = load_model(model_name, ckptPATH, config, torch.device('cpu'))\n",
    "local_weight = glob_model[1][5]\n",
    "\n",
    "glob_model = glob_model[0]\n",
    "# local_model = deepcopy(glob_model)\n",
    "# local_model.load_state_dict(local_model, strict=False)"
   ]
  },
  {
   "cell_type": "code",
   "execution_count": null,
   "metadata": {},
   "outputs": [],
   "source": [
    "local_model = deepcopy(glob_model)\n",
    "local_model.load_state_dict(local_weight, strict=False)"
   ]
  },
  {
   "cell_type": "code",
   "execution_count": 42,
   "metadata": {},
   "outputs": [],
   "source": [
    "activation={'Local': {},\n",
    "            'Global': {}}"
   ]
  },
  {
   "cell_type": "code",
   "execution_count": 43,
   "metadata": {},
   "outputs": [],
   "source": [
    "def get_activation(model_name, layer_name):\n",
    "    def hook(module, input, output):\n",
    "        activation[model_name][layer_name] = output.detach()\n",
    "    return hook\n",
    "\n",
    "\n",
    "def register_hooks_for_model(model, model_name):\n",
    "    hooks = []\n",
    "    for name, layer in model.named_modules():\n",
    "        if (isinstance(layer, nn.Conv3d) or isinstance(layer, nn.Linear)) and ('downsample' not in name):\n",
    "            hook = layer.register_forward_hook(get_activation(model_name, name))\n",
    "            hooks.append(hook)\n",
    "    return hooks\n",
    "\n",
    "def remove_hooks(hooks):\n",
    "    for hook in hooks:\n",
    "        hook.remove()"
   ]
  },
  {
   "cell_type": "code",
   "execution_count": 44,
   "metadata": {},
   "outputs": [],
   "source": [
    "hooks_model_a = register_hooks_for_model(local_model, 'Local')\n",
    "hooks_model_b = register_hooks_for_model(glob_model, 'Global')"
   ]
  },
  {
   "cell_type": "code",
   "execution_count": 45,
   "metadata": {},
   "outputs": [],
   "source": [
    "loc_rep = local_model(source_data) # predict 값\n",
    "glob_rep = glob_model(source_data) # predict 값"
   ]
  },
  {
   "cell_type": "code",
   "execution_count": null,
   "metadata": {},
   "outputs": [],
   "source": [
    "num_layers = 0\n",
    "for (layer_name, loc_output), glob_output in zip(activation['Local'].items(), activation['Global'].values()):\n",
    "    print(layer_name)\n",
    "    if \"layer3.0.\" in layer_name:\n",
    "        break\n",
    "    num_layers += 1"
   ]
  },
  {
   "cell_type": "code",
   "execution_count": null,
   "metadata": {},
   "outputs": [],
   "source": []
  },
  {
   "cell_type": "code",
   "execution_count": null,
   "metadata": {},
   "outputs": [],
   "source": [
    "import numpy as np\n",
    "import matplotlib.pyplot as plt\n",
    "from scipy.stats import gaussian_kde\n",
    "\n",
    "activations = loc_output\n",
    "activations2 = glob_output\n",
    "\n",
    "# Flatten activations for a single channel\n",
    "for i in range(233, 235):\n",
    "    channel_activations = activations[:, i, :, :, :].flatten()\n",
    "    channel_activations2 = activations2[:, i, :, :, :].flatten()\n",
    "\n",
    "    # Compute histogram\n",
    "    # hist, bin_edges = np.histogram(channel_activations, bins=100, density=True)\n",
    "\n",
    "    # # Plot histogram\n",
    "    # plt.hist(channel_activations, bins=100, density=True)\n",
    "    # plt.title('Probability Distribution of Activations (Channel 0)')\n",
    "    # plt.xlabel('Activation Value')\n",
    "    # plt.ylabel('Probability Density')\n",
    "\n",
    "    # Kernel Density Estimation\n",
    "    kde = gaussian_kde(channel_activations)\n",
    "    activation_range = np.linspace(channel_activations.min(), channel_activations.max(), 1000)\n",
    "    kde_values = kde(activation_range)\n",
    "\n",
    "    kde2 = gaussian_kde(channel_activations2)\n",
    "    activation_range2 = np.linspace(channel_activations2.min(), channel_activations2.max(), 1000)\n",
    "    kde_values2 = kde2(activation_range2)\n",
    "\n",
    "\n",
    "    # Plot KDE\n",
    "    plt.plot(activation_range, kde_values, color='red')\n",
    "    plt.plot(activation_range2, kde_values2, color='blue')\n",
    "    plt.title('KDE of Activations (Channel 0)')\n",
    "    plt.xlabel('Activation Value')\n",
    "    plt.ylabel('Probability Density')\n",
    "    plt.show()"
   ]
  },
  {
   "cell_type": "code",
   "execution_count": null,
   "metadata": {},
   "outputs": [],
   "source": []
  },
  {
   "cell_type": "code",
   "execution_count": null,
   "metadata": {},
   "outputs": [],
   "source": []
  },
  {
   "cell_type": "code",
   "execution_count": null,
   "metadata": {},
   "outputs": [],
   "source": []
  },
  {
   "cell_type": "code",
   "execution_count": 18,
   "metadata": {},
   "outputs": [],
   "source": [
    "remove_hooks(hooks_model_a)\n",
    "remove_hooks(hooks_model_b)"
   ]
  },
  {
   "cell_type": "code",
   "execution_count": null,
   "metadata": {},
   "outputs": [],
   "source": []
  }
 ],
 "metadata": {
  "kernelspec": {
   "display_name": "AdaptFL",
   "language": "python",
   "name": "python3"
  },
  "language_info": {
   "codemirror_mode": {
    "name": "ipython",
    "version": 3
   },
   "file_extension": ".py",
   "mimetype": "text/x-python",
   "name": "python",
   "nbconvert_exporter": "python",
   "pygments_lexer": "ipython3",
   "version": "3.9.20"
  }
 },
 "nbformat": 4,
 "nbformat_minor": 2
}
