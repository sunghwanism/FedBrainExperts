{
 "cells": [
  {
   "cell_type": "code",
   "execution_count": null,
   "metadata": {},
   "outputs": [],
   "source": [
    "import os\n",
    "import sys\n",
    "\n",
    "sys.path.append(\"../\")\n",
    "\n",
    "import pandas as pd\n",
    "import numpy as np\n",
    "import matplotlib.pyplot as plt\n",
    "import seaborn as sns\n",
    "\n",
    "from natsort import natsorted\n",
    "from src.data.DataList import dataset_dict, dist_colors, ind_dataset_dict\n",
    "\n",
    "from sklearn.model_selection import train_test_split\n",
    "\n",
    "import shutil"
   ]
  },
  {
   "cell_type": "markdown",
   "metadata": {},
   "source": [
    "## JBNU preprocessing"
   ]
  },
  {
   "cell_type": "code",
   "execution_count": null,
   "metadata": {},
   "outputs": [],
   "source": [
    "BASE = \"/NFS/Users/moonsh/data/FLData/\"\n",
    "baseinfo = pd.read_excel(BASE + \"JBNUphenotype.xlsx\")\n",
    "img_list = os.listdir(BASE+\"Image/JBNU\")\n",
    "\n",
    "baseinfo['Id'] = baseinfo['Id'].map(lambda x: \"jbnu_\"+str(x).zfill(4))\n",
    "baseinfo['sex'] = baseinfo['sex'].map({\"M\": 1, \"F\":2})\n",
    "baseinfo.rename(columns={\"Id\": \"Subject\", \"age\": \"Age\", \"sex\":\"Sex(1=m,2=f)\", }, inplace=True)\n",
    "baseinfo = baseinfo[[\"Subject\", \"Age\", \"Sex(1=m,2=f)\", \"label\"]]\n",
    "# baseinfo.to_csv(BASE+\"JBNU_original_data.csv\", index=False)"
   ]
  },
  {
   "cell_type": "code",
   "execution_count": null,
   "metadata": {},
   "outputs": [],
   "source": [
    "new_df = pd.DataFrame()\n",
    "for i in range(len(baseinfo)):\n",
    "    img_name = f\"wm{baseinfo.iloc[i,0]}.nii\"\n",
    "    if img_name in img_list:\n",
    "        new_row = baseinfo.iloc[i].copy()\n",
    "        new_row[\"ImageFile\"] = img_name\n",
    "        new_row = pd.DataFrame(new_row).T\n",
    "        new_df = pd.concat([new_df, new_row], ignore_index=True, axis=0)\n",
    "\n",
    "# new_df.to_csv(BASE+\"JBNU_original_data.csv\", index=False)"
   ]
  },
  {
   "cell_type": "code",
   "execution_count": null,
   "metadata": {},
   "outputs": [],
   "source": [
    "hc_info = new_df[new_df['label']==\"HC\"]\n",
    "hc_info.drop(columns=[\"label\"], inplace=True)\n",
    "# hc_info.to_csv(BASE+\"JBNU_HC_data.csv\", index=False)"
   ]
  },
  {
   "cell_type": "code",
   "execution_count": null,
   "metadata": {},
   "outputs": [],
   "source": [
    "train_df, test_df = train_test_split(hc_info, test_size=0.10, random_state=3)\n",
    "train_df, val_df = train_test_split(train_df, test_size=0.11, random_state=10)\n",
    "\n",
    "train_df.to_csv(\"/NFS/Users/moonsh/data/FLData/Phenotype/JBNU_Phenotype_train.csv\", index=False)\n",
    "test_df.to_csv(\"/NFS/Users/moonsh/data/FLData/Phenotype/JBNU_Phenotype_test.csv\", index=False)\n",
    "val_df.to_csv(\"/NFS/Users/moonsh/data/FLData/Phenotype/JBNU_Phenotype_val.csv\", index=False)\n",
    "\n",
    "plt.hist(train_df[\"Age\"], bins=10, alpha=0.5, color='orange', label=\"Train\")\n",
    "plt.hist(test_df[\"Age\"], bins=10, alpha=0.5, color='blue', label=\"Test\")\n",
    "plt.hist(val_df[\"Age\"], bins=10, alpha=0.5, color='green', label=\"Val\")\n",
    "plt.legend()\n",
    "plt.show()"
   ]
  },
  {
   "cell_type": "code",
   "execution_count": null,
   "metadata": {},
   "outputs": [],
   "source": []
  },
  {
   "cell_type": "code",
   "execution_count": null,
   "metadata": {},
   "outputs": [],
   "source": []
  },
  {
   "cell_type": "markdown",
   "metadata": {},
   "source": [
    "## NKI-RK Preprocessing"
   ]
  },
  {
   "cell_type": "code",
   "execution_count": null,
   "metadata": {},
   "outputs": [],
   "source": [
    "BASE = \"/NFS/MRI/NKI-RK/phenotype/\"\n",
    "baseinfo = pd.read_csv(BASE + \"participants.tsv\", sep=\"\\t\")\n",
    "pheno_list = os.listdir(BASE)\n",
    "pheno_list = [x for x in pheno_list if x.endswith(\".tsv\") and x.startswith(\"sub\")]\n",
    "img_list = os.listdir(\"/NFS/MRI/NKI-RK/preprocess/cat12/mri/\")"
   ]
  },
  {
   "cell_type": "code",
   "execution_count": null,
   "metadata": {},
   "outputs": [],
   "source": [
    "baseinfo = baseinfo['participant_id,sex,handedness'].str.split(',', expand=True)\n",
    "baseinfo.columns = ['participant_id', 'sex', 'handedness']\n",
    "baseinfo['sex'] = baseinfo['sex'].map({'M': 1, 'F': 2})\n",
    "baseinfo"
   ]
  },
  {
   "cell_type": "code",
   "execution_count": null,
   "metadata": {},
   "outputs": [],
   "source": [
    "result_df = pd.DataFrame()\n",
    "for p in pheno_list:\n",
    "    csvfile = os.path.join(BASE, p)\n",
    "    pheno = pd.read_csv(BASE + p, sep=\"\\t\")\n",
    "    data = pheno[pheno['session']=='BAS1']\n",
    "    if data.shape[0] == 0:\n",
    "        data = pheno[pheno['session']=='BAS2']\n",
    "    if data.shape[0] == 1:\n",
    "        ID = \"sub-\"+data['id'].values[0]\n",
    "        session = data['session'].values[0]\n",
    "        sex = baseinfo[baseinfo['participant_id']==ID]['sex'].values[0]\n",
    "        imgfile = f\"wm{ID}_ses-{session}_T1w.nii\"\n",
    "\n",
    "        if imgfile not in img_list:\n",
    "            continue\n",
    "\n",
    "        new_row = pd.DataFrame([{\"Subject\": \"sub-\"+data['id'].values[0], \"Sex(1=m,2=f)\": sex,\n",
    "                                \"Age\": data['age'].values[0],\n",
    "                                \"Handedness\": data['handedness_score'].values[0],\n",
    "                                \"Session\": data['session'].values[0],\n",
    "                                \"ImageFile\": imgfile\n",
    "                                }])\n",
    "        result_df = pd.concat([result_df, new_row], ignore_index=True, axis=0)"
   ]
  },
  {
   "cell_type": "code",
   "execution_count": null,
   "metadata": {},
   "outputs": [],
   "source": [
    "result_df.dropna(inplace=True, axis=0)\n",
    "result_df.to_csv(\"/NFS/Users/moonsh/data/FLData/Phenotype/NKI-RK_Phenotype_total.csv\", index=False)"
   ]
  },
  {
   "cell_type": "code",
   "execution_count": null,
   "metadata": {},
   "outputs": [],
   "source": [
    "train_df, test_df = train_test_split(result_df, test_size=0.10, random_state=42)\n",
    "train_df, val_df = train_test_split(train_df, test_size=0.11, random_state=42)\n",
    "\n",
    "train_df.to_csv(\"/NFS/Users/moonsh/data/FLData/Phenotype/NKI-RK_Phenotype_train.csv\", index=False)\n",
    "test_df.to_csv(\"/NFS/Users/moonsh/data/FLData/Phenotype/NKI-RK_Phenotype_test.csv\", index=False)\n",
    "val_df.to_csv(\"/NFS/Users/moonsh/data/FLData/Phenotype/NKI-RK_Phenotype_val.csv\", index=False)\n",
    "\n",
    "plt.hist(train_df[\"Age\"], bins=10, alpha=0.5, color='orange', label=\"Train\")\n",
    "plt.hist(test_df[\"Age\"], bins=10, alpha=0.5, color='blue', label=\"Test\")\n",
    "plt.hist(val_df[\"Age\"], bins=10, alpha=0.5, color='green', label=\"Val\")\n",
    "plt.legend()\n",
    "plt.show()"
   ]
  },
  {
   "cell_type": "code",
   "execution_count": null,
   "metadata": {},
   "outputs": [],
   "source": []
  },
  {
   "cell_type": "code",
   "execution_count": null,
   "metadata": {},
   "outputs": [],
   "source": []
  },
  {
   "cell_type": "markdown",
   "metadata": {},
   "source": [
    "## Independent Dataset"
   ]
  },
  {
   "cell_type": "code",
   "execution_count": null,
   "metadata": {},
   "outputs": [],
   "source": [
    "BASE = \"/NFS/Users/moonsh/thesis/data/\"\n",
    "DATASETNAME = os.listdir(BASE)"
   ]
  },
  {
   "cell_type": "code",
   "execution_count": null,
   "metadata": {},
   "outputs": [],
   "source": [
    "dataname = \"OAS2\"\n",
    "Pheno1 = pd.read_csv(os.path.join(BASE, dataname, f\"{dataname}_Phenotype_total_base.csv\"))\n",
    "# Pheno2 = pd.read_csv(os.path.join(BASE, dataname, f\"{dataname}_Phenotype_total_base.csv\"), encoding='latin-1')\n",
    "# Pheno3 = pd.read_csv(os.path.join(BASE, dataname, f\"{dataname}_Phenotype_MCI.csv\" ))\n",
    "\n",
    "# merge_df = pd.concat([Pheno1, Pheno2, Pheno3], ignore_index=True, axis=0)\n",
    "# merge_df.drop([\"ImageFile\", 'Visit', 'Modality', 'Description', 'Type', 'Acq Date', \"Format\"], axis=1, inplace=True)\n",
    "\n",
    "# # merge_df.rename({\"Group\": 'Control',\n",
    "#                  }, inplace=True)\n",
    "# merge_df['Sex(1=m,2=f)'] = merge_df['Sex(1=m,2=f)'].map({\"M\":1, \"F\":2})\n",
    "\n",
    "# Pheno2.drop(['SUB_STUDY', \"SUB_TYPE\"], axis=1, inplace=True)\n",
    "\n",
    "# merge_df = pd.merge(Pheno1, Pheno2, on=\"Subject\", how=\"left\")"
   ]
  },
  {
   "cell_type": "code",
   "execution_count": null,
   "metadata": {},
   "outputs": [],
   "source": [
    "Pheno1.rename({\"Sex\": \"Sex(1=m,2=f)\"}, axis=1, inplace=True)\n",
    "# Pheno1['Sex(1=m,2=f)'] = Pheno1['Sex(1=m,2=f)'].map({\"male\":1, \"female\":2})"
   ]
  },
  {
   "cell_type": "code",
   "execution_count": null,
   "metadata": {},
   "outputs": [],
   "source": [
    "Pheno1"
   ]
  },
  {
   "cell_type": "code",
   "execution_count": null,
   "metadata": {},
   "outputs": [],
   "source": [
    "Pheno1['ImageFile'] = Pheno1['ImageFile'].map(lambda x: x.split(\"/\")[-1])"
   ]
  },
  {
   "cell_type": "code",
   "execution_count": null,
   "metadata": {},
   "outputs": [],
   "source": [
    "Pheno1"
   ]
  },
  {
   "cell_type": "code",
   "execution_count": null,
   "metadata": {},
   "outputs": [],
   "source": [
    "Pheno1.to_csv(os.path.join(BASE, dataname, f\"{dataname}_Phenotype_total_base.csv\"), index=False)"
   ]
  },
  {
   "cell_type": "code",
   "execution_count": null,
   "metadata": {},
   "outputs": [],
   "source": [
    "# Pheno1.dropna(subset=[\"Age\", \"Sex(1=m,2=f)\"], axis=0, inplace=True)"
   ]
  },
  {
   "cell_type": "code",
   "execution_count": null,
   "metadata": {},
   "outputs": [],
   "source": [
    "# img_path = os.path.join(\"/NFS/Users/moonsh/data/FLData/Image/\", dataname)\n",
    "img_path = os.path.join(\"/NFS/Users/moonsh/thesis/data\", dataname, \"MRI\")\n",
    "img_list = os.listdir(img_path)\n",
    "len(img_list)"
   ]
  },
  {
   "cell_type": "code",
   "execution_count": null,
   "metadata": {},
   "outputs": [],
   "source": [
    "import time\n",
    "\n",
    "new_df = pd.DataFrame()\n",
    "for i in range(len(Pheno1)):\n",
    "    # img_name = f\"wmsub-{Pheno1.iloc[i,0]}\"\n",
    "    img_name = f\"wm{Pheno1.iloc[i,1]}_{Pheno1.iloc[i,0]}.nii\"\n",
    "    order = Pheno1.iloc[i, -1]\n",
    "\n",
    "    \n",
    "    for img_l in img_list:\n",
    "        if img_name in img_l:\n",
    "            new_row = Pheno1.iloc[i].copy()\n",
    "            new_row[\"ImageFile\"] = img_l\n",
    "            new_row = pd.DataFrame(new_row).T\n",
    "            new_df = pd.concat([new_df, new_row], ignore_index=True, axis=0)\n",
    "            # shutil.copy(os.path.join(img_path, img_name), os.path.join(BASE, dataname, \"MRI\", img_name))\n",
    "            # time.sleep(0.1)\n",
    "            break"
   ]
  },
  {
   "cell_type": "code",
   "execution_count": null,
   "metadata": {},
   "outputs": [],
   "source": [
    "new_df"
   ]
  },
  {
   "cell_type": "code",
   "execution_count": null,
   "metadata": {},
   "outputs": [],
   "source": [
    "new_df['Control'].value_counts()"
   ]
  },
  {
   "cell_type": "code",
   "execution_count": null,
   "metadata": {},
   "outputs": [],
   "source": [
    "# new_df.rename({'Group':'Control'}, inplace=True, axis=1)\n",
    "new_df['Control'] = new_df['Control'].map({\"No_Known_Disorder\": \"HC\", \n",
    "                                           \"Schizophrenia_Strict\": \"SCZ\",})"
   ]
  },
  {
   "cell_type": "code",
   "execution_count": null,
   "metadata": {},
   "outputs": [],
   "source": [
    "new_df['Control'].value_counts()"
   ]
  },
  {
   "cell_type": "code",
   "execution_count": null,
   "metadata": {},
   "outputs": [],
   "source": [
    "new_df.dropna(subset=['Control'], axis=0, inplace=True)"
   ]
  },
  {
   "cell_type": "code",
   "execution_count": null,
   "metadata": {},
   "outputs": [],
   "source": [
    "new_df.sample(30)"
   ]
  },
  {
   "cell_type": "code",
   "execution_count": null,
   "metadata": {},
   "outputs": [],
   "source": [
    "new_df.to_csv(os.path.join(BASE, dataname, f\"{dataname}_Phenotype_total.csv\"), index=False)"
   ]
  },
  {
   "cell_type": "code",
   "execution_count": null,
   "metadata": {},
   "outputs": [],
   "source": []
  },
  {
   "cell_type": "markdown",
   "metadata": {},
   "source": [
    "## EDA"
   ]
  },
  {
   "cell_type": "code",
   "execution_count": null,
   "metadata": {},
   "outputs": [],
   "source": [
    "BASE = \"/NFS/Users/moonsh/thesis/data/\"\n",
    "DATASETNAME = os.listdir(BASE)"
   ]
  },
  {
   "cell_type": "code",
   "execution_count": null,
   "metadata": {},
   "outputs": [],
   "source": [
    "train_test_data = list(dataset_dict.keys())\n",
    "ind_data = ['ADNI', 'COBRE', 'MCIC', 'NUSDAST', 'OAS4', 'CoRR', 'fcon1000', 'OAS2', 'SLIM',]"
   ]
  },
  {
   "cell_type": "code",
   "execution_count": null,
   "metadata": {},
   "outputs": [],
   "source": [
    "# fig, axs = plt.subplots(2, 5, figsize=(20, 8))\n",
    "# axs = axs.flatten()\n",
    "\n",
    "# colors = sns.color_palette(\"Set3\", len(train_test_data))\n",
    "\n",
    "# N = 0\n",
    "# M_N = 0\n",
    "# F_N = 0\n",
    "# AGE = []\n",
    "\n",
    "\n",
    "# for i in range(len(train_test_data)):\n",
    "#     dataname = train_test_data[i]\n",
    "#     df = pd.read_csv(os.path.join(BASE, dataname, f\"{dataname}_Phenotype_total.csv\"))\n",
    "#     print(dataname)\n",
    "#     print(df['Age'].mean().round(2), \"±\", df['Age'].std().round(2))\n",
    "#     print(len(df[df['Sex(1=m,2=f)']==1]), '/', len(df[df['Sex(1=m,2=f)']==2]))\n",
    "#     print(int(df['Age'].min()),\"-\", int(df['Age'].max()))\n",
    "#     print(len(df))\n",
    "#     print(\"--------------------\")\n",
    "\n",
    "#     N += len(df)\n",
    "#     M_N += len(df[df['Sex(1=m,2=f)']==1])\n",
    "#     F_N += len(df[df['Sex(1=m,2=f)']==2])\n",
    "#     AGE.extend(df['Age'].tolist())\n",
    "\n",
    "#     axs[i].hist(df[\"Age\"], bins=10, alpha=0.5, color=colors[i])\n",
    "\n",
    "#     min_age = df[\"Age\"].min()//5 * 5\n",
    "#     max_age = df[\"Age\"].max()//5 * 5\n",
    "\n",
    "#     xticks = np.linspace(min_age, max_age, 6)\n",
    "#     axs[i].set_xticks(xticks)\n",
    "\n",
    "#     axs[i].set_title(dataname, fontsize=15)\n",
    "#     axs[i].text(0.75, 0.9, f\"N={df.shape[0]}\", fontsize=12, transform=axs[i].transAxes,\n",
    "#                 bbox=dict(facecolor='white', alpha=0.5))\n",
    "\n",
    "\n",
    "# fig.supylabel(\"Frequency\", fontsize=18, position=(-0.00001, 0.5))\n",
    "# fig.supxlabel(\"Age\", fontsize=18, position=(0.5, -0.00001))\n",
    "# plt.tight_layout()\n",
    "\n",
    "# plt.savefig(\"/NFS/Users/moonsh/thesis/asset/age_distribution.png\", dpi=600, bbox_inches='tight', pad_inches=0.1)\n",
    "# plt.show()\n",
    "\n",
    "# print(np.array(AGE).mean())\n",
    "# print(np.array(AGE).std())"
   ]
  },
  {
   "cell_type": "code",
   "execution_count": null,
   "metadata": {},
   "outputs": [],
   "source": [
    "fig, axs = plt.subplots(3, 3, figsize=(15, 15))\n",
    "axs = axs.flatten()\n",
    "\n",
    "colors = sns.color_palette(\"Set3\", len(ind_data)+10)\n",
    "\n",
    "N = 0\n",
    "M_N = 0\n",
    "F_N = 0\n",
    "AGE = []\n",
    "\n",
    "\n",
    "for i in range(len(ind_data)):\n",
    "    dataname = ind_data[i]\n",
    "\n",
    "    if dataname == 'OAS2' or dataname == 'SLIM':\n",
    "        base = pd.read_csv(os.path.join(BASE, dataname, f\"{dataname}_Phenotype_total_base.csv\"))\n",
    "        follow = pd.read_csv(os.path.join(BASE, dataname, f\"{dataname}_Phenotype_total_follow.csv\"))\n",
    "\n",
    "        axs[i].hist(base[\"Age\"], bins=10, alpha=0.5, color=colors[i], label=\"Base\")\n",
    "        axs[i].hist(follow[\"Age\"], bins=10, alpha=0.5, color=colors[i+10], label='Follow-up')\n",
    "\n",
    "        min_age = base[\"Age\"].min()//5 * 5\n",
    "        max_age = follow[\"Age\"].max()//5 * 5\n",
    "\n",
    "        print(dataname)\n",
    "        print(base['Age'].mean().round(2), \"±\", base['Age'].std().round(2))\n",
    "        print(follow['Age'].mean().round(2), \"±\", follow['Age'].std().round(2))\n",
    "\n",
    "        print(len(base[base['Sex(1=m,2=f)']==1]), '/', len(base[base['Sex(1=m,2=f)']==2]))\n",
    "\n",
    "        print(int(base['Age'].min()),\"-\", int(base['Age'].max()))\n",
    "        print(int(follow['Age'].min()),\"-\", int(follow['Age'].max()))\n",
    "        print(len(follow))\n",
    "        print(\"--------------------\")\n",
    "\n",
    "        if dataname == 'SLIM':\n",
    "            min_age = base[\"Age\"].min()\n",
    "            max_age = follow[\"Age\"].max() + 3\n",
    "            xticks = np.linspace(min_age, max_age, 6)\n",
    "        else:\n",
    "            xticks = np.linspace(min_age, max_age, 6)\n",
    "        axs[i].set_xticks(xticks)\n",
    "\n",
    "        axs[i].set_title(dataname, fontsize=15)\n",
    "        axs[i].text(0.80, 0.87, f\"N={base.shape[0]}\", fontsize=12, transform=axs[i].transAxes,\n",
    "                    bbox=dict(facecolor='white', alpha=0.5))\n",
    "        \n",
    "        axs[i].legend(loc='upper left')\n",
    "\n",
    "    else:\n",
    "        df = pd.read_csv(os.path.join(BASE, dataname, f\"{dataname}_Phenotype_total.csv\"))\n",
    "        print(dataname)\n",
    "        print(df['Age'].mean().round(2), \"±\", df['Age'].std().round(2))\n",
    "        print(len(df[df['Sex(1=m,2=f)']==1]), '/', len(df[df['Sex(1=m,2=f)']==2]))\n",
    "        print(int(df['Age'].min()),\"-\", int(df['Age'].max()))\n",
    "        print(len(df))\n",
    "        print(\"--------------------\")\n",
    "\n",
    "        N += len(df)\n",
    "        M_N += len(df[df['Sex(1=m,2=f)']==1])\n",
    "        F_N += len(df[df['Sex(1=m,2=f)']==2])\n",
    "        AGE.extend(df['Age'].tolist())\n",
    "\n",
    "        axs[i].hist(df[\"Age\"], bins=10, alpha=0.5, color=colors[i])\n",
    "\n",
    "        min_age = df[\"Age\"].min()//5 * 5\n",
    "        max_age = df[\"Age\"].max()//5 * 5\n",
    "\n",
    "        xticks = np.linspace(min_age, max_age, 6)\n",
    "        axs[i].set_xticks(xticks)\n",
    "\n",
    "        axs[i].set_title(dataname, fontsize=15)\n",
    "        axs[i].text(0.80, 0.9, f\"N={df.shape[0]}\", fontsize=12, transform=axs[i].transAxes,\n",
    "                    bbox=dict(facecolor='white', alpha=0.5))\n",
    "\n",
    "\n",
    "fig.supylabel(\"Frequency\", fontsize=18, position=(-0.00001, 0.5))\n",
    "fig.supxlabel(\"Age\", fontsize=18, position=(0.5, -0.00001))\n",
    "plt.tight_layout()\n",
    "\n",
    "plt.savefig(\"/NFS/Users/moonsh/thesis/asset/ind_age_distribution.png\", dpi=600, bbox_inches='tight', pad_inches=0.1)\n",
    "plt.show()\n",
    "\n",
    "print(np.array(AGE).mean())\n",
    "print(np.array(AGE).std())"
   ]
  },
  {
   "cell_type": "code",
   "execution_count": null,
   "metadata": {},
   "outputs": [],
   "source": []
  }
 ],
 "metadata": {
  "kernelspec": {
   "display_name": "AdaptFL",
   "language": "python",
   "name": "python3"
  },
  "language_info": {
   "codemirror_mode": {
    "name": "ipython",
    "version": 3
   },
   "file_extension": ".py",
   "mimetype": "text/x-python",
   "name": "python",
   "nbconvert_exporter": "python",
   "pygments_lexer": "ipython3",
   "version": "3.9.20"
  },
  "orig_nbformat": 4
 },
 "nbformat": 4,
 "nbformat_minor": 2
}
