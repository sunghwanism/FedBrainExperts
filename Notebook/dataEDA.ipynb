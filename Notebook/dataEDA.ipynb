{
 "cells": [
  {
   "cell_type": "code",
   "execution_count": 1,
   "metadata": {},
   "outputs": [],
   "source": [
    "import os\n",
    "import sys\n",
    "\n",
    "sys.path.append(\"../\")\n",
    "\n",
    "import pandas as pd\n",
    "import numpy as np\n",
    "import matplotlib.pyplot as plt\n",
    "\n",
    "from natsort import natsorted\n",
    "from src.data.DataList import dataset_dict, dist_colors\n",
    "\n",
    "from sklearn.model_selection import train_test_split"
   ]
  },
  {
   "cell_type": "markdown",
   "metadata": {},
   "source": [
    "## JBNU preprocessing"
   ]
  },
  {
   "cell_type": "code",
   "execution_count": 15,
   "metadata": {},
   "outputs": [],
   "source": [
    "BASE = \"/NFS/Users/moonsh/data/FLData/\"\n",
    "baseinfo = pd.read_excel(BASE + \"JBNUphenotype.xlsx\")\n",
    "img_list = os.listdir(BASE+\"Image/JBNU\")\n",
    "\n",
    "baseinfo['Id'] = baseinfo['Id'].map(lambda x: \"jbnu_\"+str(x).zfill(4))\n",
    "baseinfo['sex'] = baseinfo['sex'].map({\"M\": 1, \"F\":2})\n",
    "baseinfo.rename(columns={\"Id\": \"Subject\", \"age\": \"Age\", \"sex\":\"Sex(1=m,2=f)\", }, inplace=True)\n",
    "baseinfo = baseinfo[[\"Subject\", \"Age\", \"Sex(1=m,2=f)\", \"label\"]]\n",
    "# baseinfo.to_csv(BASE+\"JBNU_original_data.csv\", index=False)"
   ]
  },
  {
   "cell_type": "code",
   "execution_count": 16,
   "metadata": {},
   "outputs": [],
   "source": [
    "new_df = pd.DataFrame()\n",
    "for i in range(len(baseinfo)):\n",
    "    img_name = f\"wm{baseinfo.iloc[i,0]}.nii\"\n",
    "    if img_name in img_list:\n",
    "        new_row = baseinfo.iloc[i].copy()\n",
    "        new_row[\"ImageFile\"] = img_name\n",
    "        new_row = pd.DataFrame(new_row).T\n",
    "        new_df = pd.concat([new_df, new_row], ignore_index=True, axis=0)\n",
    "\n",
    "# new_df.to_csv(BASE+\"JBNU_original_data.csv\", index=False)"
   ]
  },
  {
   "cell_type": "code",
   "execution_count": null,
   "metadata": {},
   "outputs": [],
   "source": [
    "hc_info = new_df[new_df['label']==\"HC\"]\n",
    "hc_info.drop(columns=[\"label\"], inplace=True)\n",
    "# hc_info.to_csv(BASE+\"JBNU_HC_data.csv\", index=False)"
   ]
  },
  {
   "cell_type": "code",
   "execution_count": null,
   "metadata": {},
   "outputs": [],
   "source": [
    "train_df, test_df = train_test_split(hc_info, test_size=0.10, random_state=3)\n",
    "train_df, val_df = train_test_split(train_df, test_size=0.11, random_state=10)\n",
    "\n",
    "train_df.to_csv(\"/NFS/Users/moonsh/data/FLData/Phenotype/JBNU_Phenotype_train.csv\", index=False)\n",
    "test_df.to_csv(\"/NFS/Users/moonsh/data/FLData/Phenotype/JBNU_Phenotype_test.csv\", index=False)\n",
    "val_df.to_csv(\"/NFS/Users/moonsh/data/FLData/Phenotype/JBNU_Phenotype_val.csv\", index=False)\n",
    "\n",
    "plt.hist(train_df[\"Age\"], bins=10, alpha=0.5, color='orange', label=\"Train\")\n",
    "plt.hist(test_df[\"Age\"], bins=10, alpha=0.5, color='blue', label=\"Test\")\n",
    "plt.hist(val_df[\"Age\"], bins=10, alpha=0.5, color='green', label=\"Val\")\n",
    "plt.legend()\n",
    "plt.show()"
   ]
  },
  {
   "cell_type": "code",
   "execution_count": null,
   "metadata": {},
   "outputs": [],
   "source": []
  },
  {
   "cell_type": "code",
   "execution_count": null,
   "metadata": {},
   "outputs": [],
   "source": []
  },
  {
   "cell_type": "markdown",
   "metadata": {},
   "source": [
    "## NKI-RK Preprocessing"
   ]
  },
  {
   "cell_type": "code",
   "execution_count": 2,
   "metadata": {},
   "outputs": [],
   "source": [
    "BASE = \"/NFS/MRI/NKI-RK/phenotype/\"\n",
    "baseinfo = pd.read_csv(BASE + \"participants.tsv\", sep=\"\\t\")\n",
    "pheno_list = os.listdir(BASE)\n",
    "pheno_list = [x for x in pheno_list if x.endswith(\".tsv\") and x.startswith(\"sub\")]\n",
    "img_list = os.listdir(\"/NFS/MRI/NKI-RK/preprocess/cat12/mri/\")"
   ]
  },
  {
   "cell_type": "code",
   "execution_count": null,
   "metadata": {},
   "outputs": [],
   "source": [
    "baseinfo = baseinfo['participant_id,sex,handedness'].str.split(',', expand=True)\n",
    "baseinfo.columns = ['participant_id', 'sex', 'handedness']\n",
    "baseinfo['sex'] = baseinfo['sex'].map({'M': 1, 'F': 2})\n",
    "baseinfo"
   ]
  },
  {
   "cell_type": "code",
   "execution_count": 7,
   "metadata": {},
   "outputs": [],
   "source": [
    "result_df = pd.DataFrame()\n",
    "for p in pheno_list:\n",
    "    csvfile = os.path.join(BASE, p)\n",
    "    pheno = pd.read_csv(BASE + p, sep=\"\\t\")\n",
    "    data = pheno[pheno['session']=='BAS1']\n",
    "    if data.shape[0] == 0:\n",
    "        data = pheno[pheno['session']=='BAS2']\n",
    "    if data.shape[0] == 1:\n",
    "        ID = \"sub-\"+data['id'].values[0]\n",
    "        session = data['session'].values[0]\n",
    "        sex = baseinfo[baseinfo['participant_id']==ID]['sex'].values[0]\n",
    "        imgfile = f\"wm{ID}_ses-{session}_T1w.nii\"\n",
    "\n",
    "        if imgfile not in img_list:\n",
    "            continue\n",
    "\n",
    "        new_row = pd.DataFrame([{\"Subject\": \"sub-\"+data['id'].values[0], \"Sex(1=m,2=f)\": sex,\n",
    "                                \"Age\": data['age'].values[0],\n",
    "                                \"Handedness\": data['handedness_score'].values[0],\n",
    "                                \"Session\": data['session'].values[0],\n",
    "                                \"ImageFile\": imgfile\n",
    "                                }])\n",
    "        result_df = pd.concat([result_df, new_row], ignore_index=True, axis=0)"
   ]
  },
  {
   "cell_type": "code",
   "execution_count": 8,
   "metadata": {},
   "outputs": [],
   "source": [
    "result_df.dropna(inplace=True, axis=0)\n",
    "result_df.to_csv(\"/NFS/Users/moonsh/data/FLData/Phenotype/NKI-RK_Phenotype_total.csv\", index=False)"
   ]
  },
  {
   "cell_type": "code",
   "execution_count": null,
   "metadata": {},
   "outputs": [],
   "source": [
    "train_df, test_df = train_test_split(result_df, test_size=0.10, random_state=42)\n",
    "train_df, val_df = train_test_split(train_df, test_size=0.11, random_state=42)\n",
    "\n",
    "train_df.to_csv(\"/NFS/Users/moonsh/data/FLData/Phenotype/NKI-RK_Phenotype_train.csv\", index=False)\n",
    "test_df.to_csv(\"/NFS/Users/moonsh/data/FLData/Phenotype/NKI-RK_Phenotype_test.csv\", index=False)\n",
    "val_df.to_csv(\"/NFS/Users/moonsh/data/FLData/Phenotype/NKI-RK_Phenotype_val.csv\", index=False)\n",
    "\n",
    "plt.hist(train_df[\"Age\"], bins=10, alpha=0.5, color='orange', label=\"Train\")\n",
    "plt.hist(test_df[\"Age\"], bins=10, alpha=0.5, color='blue', label=\"Test\")\n",
    "plt.hist(val_df[\"Age\"], bins=10, alpha=0.5, color='green', label=\"Val\")\n",
    "plt.legend()\n",
    "plt.show()"
   ]
  },
  {
   "cell_type": "markdown",
   "metadata": {},
   "source": [
    "## EDA\n"
   ]
  },
  {
   "cell_type": "code",
   "execution_count": 2,
   "metadata": {},
   "outputs": [],
   "source": [
    "BASE = \"/NFS/Users/moonsh/data/FLData/\"\n",
    "phenoPATH = BASE + \"Phenotype\"\n",
    "\n",
    "oasis_3_Hc = pd.read_csv(BASE + \"health_subjects_CDRTOT0.csv\")\n",
    "hc_oas3 = oasis_3_Hc[\"OASISID\"].unique()"
   ]
  },
  {
   "cell_type": "code",
   "execution_count": 3,
   "metadata": {},
   "outputs": [],
   "source": [
    "total_list = [csv for csv in os.listdir(phenoPATH) if csv.endswith(\"total.csv\") and csv.split(\"_\")[0] in dataset_dict.keys()]\n",
    "# train_list = [csv for csv in os.listdir(phenoPATH) if csv.endswith(\"train.csv\") and csv.split(\"_\")[0] in dataset_dict.keys()]\n",
    "# test_list = [csv for csv in os.listdir(phenoPATH) if csv.endswith(\"test.csv\") and csv.split(\"_\")[0] in dataset_dict.keys()]\n",
    "# val_list = [csv for csv in os.listdir(phenoPATH) if csv.endswith(\"val.csv\") and csv.split(\"_\")[0] in dataset_dict.keys()]"
   ]
  },
  {
   "cell_type": "code",
   "execution_count": 4,
   "metadata": {},
   "outputs": [],
   "source": [
    "df_list = []\n",
    "for i in range(10):    \n",
    "    dataset_name = total_list[i].split(\"_\")[0]\n",
    "    \n",
    "    img_list = os.listdir(os.path.join(BASE, \"Image\", dataset_name))\n",
    "    total_df = pd.read_csv(phenoPATH + \"/\" + total_list[i])\n",
    "    # total_df = pd.read_csv(phenoPATH + \"/\" + total_list[i])\n",
    "    subject_list = total_df[\"Subject\"].values\n",
    "\n",
    "    use_subject_list = []\n",
    "    imgfile_list = []\n",
    "    for subject in subject_list:\n",
    "        if dataset_name == \"OAS3\":\n",
    "            if subject not in hc_oas3:\n",
    "                continue\n",
    "        for imgfile in img_list:\n",
    "            if str(subject) in imgfile:\n",
    "                use_subject_list.append(subject)\n",
    "                imgfile_list.append(imgfile)\n",
    "                break\n",
    "\n",
    "    total_df = total_df[total_df[\"Subject\"].isin(use_subject_list)]\n",
    "    total_df = total_df.reset_index(drop=True)\n",
    "    total_df[\"ImageFile\"] = imgfile_list\n",
    "    df_list.append(total_df)\n",
    "    # total_df.to_csv(phenoPATH + \"/\" + dataset_name + \"_Phenotype_total.csv\", index=False)"
   ]
  },
  {
   "cell_type": "code",
   "execution_count": null,
   "metadata": {},
   "outputs": [],
   "source": [
    "color = dist_colors\n",
    "fig, axs = plt.subplots(2,5 , figsize=(20, 8))\n",
    "\n",
    "for i in range(10):\n",
    "    ax = axs[i // 5, i % 5]\n",
    "    \n",
    "    dataset_name = total_list[i].split(\"_\")[0]\n",
    "    # print(dataset_name)\n",
    "    total_df = pd.read_csv(phenoPATH + \"/\" + total_list[i])\n",
    "\n",
    "    train_df, test_df = train_test_split(total_df, test_size=0.10, random_state=12)\n",
    "    train_df, val_df = train_test_split(train_df, test_size=0.11, random_state=12)\n",
    "\n",
    "    print(dataset_name, len(train_df), len(test_df), len(val_df))\n",
    "\n",
    "    ax.hist(train_df[\"Age\"], bins=10, alpha=0.5, color='orange', label=\"Train\")\n",
    "    ax.hist(test_df[\"Age\"], bins=10, alpha=0.5, color='blue', label=\"Test\")\n",
    "    ax.hist(val_df[\"Age\"], bins=10, alpha=0.5, color='green', label=\"Val\")\n",
    "    ax.set_title(dataset_name)\n",
    " \n",
    "    # print(round(len(train_df) / len(total_df), 2), round(len(test_df) / len(total_df), 2), round(len(val_df) / len(total_df), 2))\n",
    "\n",
    "    # train_df.to_csv(phenoPATH + \"/\" + dataset_name + \"_Phenotype_train.csv\", index=False)\n",
    "    # test_df.to_csv(phenoPATH + \"/\" + dataset_name + \"_Phenotype_test.csv\", index=False)\n",
    "    # val_df.to_csv(phenoPATH + \"/\" + dataset_name + \"_Phenotype_val.csv\", index=False)"
   ]
  },
  {
   "cell_type": "code",
   "execution_count": null,
   "metadata": {},
   "outputs": [],
   "source": [
    "color = dist_colors\n",
    "fig, axs = plt.subplots(2,5 , figsize=(20, 8))\n",
    "\n",
    "for i, csvPATH in enumerate(total_list):\n",
    "    ax = axs[i//5, i%5]\n",
    "    csv = pd.read_csv(phenoPATH + \"/\" + csvPATH)\n",
    "    if csvPATH.split(\"_\")[0] == \"SLIM\":\n",
    "        ax.hist(csv[\"Age\"], bins=5, alpha=1, label=csvPATH.split(\"_\")[0], color=color[i])\n",
    "    else:\n",
    "        ax.hist(csv[\"Age\"], bins=5, alpha=1, label=csvPATH.split(\"_\")[0], color=color[i])\n",
    "    ax.set_title(csvPATH.split(\"_\")[0])\n",
    "    ax.set_xlim(0, 100)\n",
    "    ax.text(0.75, 0.8, f\"n={len(csv)}\", transform=ax.transAxes, bbox=dict(facecolor='white', alpha=0.8))\n",
    "\n",
    "plt.show()"
   ]
  },
  {
   "cell_type": "code",
   "execution_count": null,
   "metadata": {},
   "outputs": [],
   "source": []
  }
 ],
 "metadata": {
  "kernelspec": {
   "display_name": "AdaptFL",
   "language": "python",
   "name": "python3"
  },
  "language_info": {
   "codemirror_mode": {
    "name": "ipython",
    "version": 3
   },
   "file_extension": ".py",
   "mimetype": "text/x-python",
   "name": "python",
   "nbconvert_exporter": "python",
   "pygments_lexer": "ipython3",
   "version": "3.9.20"
  },
  "orig_nbformat": 4
 },
 "nbformat": 4,
 "nbformat_minor": 2
}
