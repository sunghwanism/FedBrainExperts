{
 "cells": [
  {
   "cell_type": "code",
   "execution_count": 1,
   "metadata": {},
   "outputs": [],
   "source": [
    "import os\n",
    "import sys\n",
    "\n",
    "sys.path.append(\"../\")\n",
    "\n",
    "import pandas as pd\n",
    "import numpy as np\n",
    "import matplotlib.pyplot as plt\n",
    "\n",
    "from natsort import natsorted\n",
    "\n",
    "from src.data.DataList import dataset_dict, dist_colors\n",
    "\n",
    "from sklearn.model_selection import train_test_split"
   ]
  },
  {
   "cell_type": "code",
   "execution_count": 2,
   "metadata": {},
   "outputs": [],
   "source": [
    "BASE = \"/NFS/Users/moonsh/data/FLData/\"\n",
    "phenoPATH = BASE + \"Phenotype\"\n",
    "\n",
    "oasis_3_Hc = pd.read_csv(BASE + \"health_subjects_CDRTOT0.csv\")\n",
    "hc_oas3 = oasis_3_Hc[\"OASISID\"].unique()"
   ]
  },
  {
   "cell_type": "code",
   "execution_count": 3,
   "metadata": {},
   "outputs": [],
   "source": [
    "total_list = [csv for csv in os.listdir(phenoPATH) if csv.endswith(\"total.csv\") and csv.split(\"_\")[0] in dataset_dict.keys()]\n",
    "# train_list = [csv for csv in os.listdir(phenoPATH) if csv.endswith(\"train.csv\") and csv.split(\"_\")[0] in dataset_dict.keys()]\n",
    "# test_list = [csv for csv in os.listdir(phenoPATH) if csv.endswith(\"test.csv\") and csv.split(\"_\")[0] in dataset_dict.keys()]\n",
    "# val_list = [csv for csv in os.listdir(phenoPATH) if csv.endswith(\"val.csv\") and csv.split(\"_\")[0] in dataset_dict.keys()]"
   ]
  },
  {
   "cell_type": "code",
   "execution_count": 4,
   "metadata": {},
   "outputs": [],
   "source": [
    "df_list = []\n",
    "for i in range(10):    \n",
    "    dataset_name = total_list[i].split(\"_\")[0]\n",
    "    \n",
    "    img_list = os.listdir(os.path.join(BASE, \"Image\", dataset_name))\n",
    "    total_df = pd.read_csv(phenoPATH + \"/\" + total_list[i])\n",
    "    # total_df = pd.read_csv(phenoPATH + \"/\" + total_list[i])\n",
    "    subject_list = total_df[\"Subject\"].values\n",
    "\n",
    "    use_subject_list = []\n",
    "    imgfile_list = []\n",
    "    for subject in subject_list:\n",
    "        if dataset_name == \"OAS3\":\n",
    "            if subject not in hc_oas3:\n",
    "                continue\n",
    "        for imgfile in img_list:\n",
    "            if str(subject) in imgfile:\n",
    "                use_subject_list.append(subject)\n",
    "                imgfile_list.append(imgfile)\n",
    "                break\n",
    "\n",
    "    total_df = total_df[total_df[\"Subject\"].isin(use_subject_list)]\n",
    "    total_df = total_df.reset_index(drop=True)\n",
    "    total_df[\"ImageFile\"] = imgfile_list\n",
    "    df_list.append(total_df)\n",
    "    # total_df.to_csv(phenoPATH + \"/\" + dataset_name + \"_Phenotype_total.csv\", index=False)"
   ]
  },
  {
   "cell_type": "code",
   "execution_count": null,
   "metadata": {},
   "outputs": [],
   "source": [
    "color = dist_colors\n",
    "fig, axs = plt.subplots(2,5 , figsize=(20, 8))\n",
    "\n",
    "for i in range(10):\n",
    "    ax = axs[i // 5, i % 5]\n",
    "    \n",
    "    dataset_name = total_list[i].split(\"_\")[0]\n",
    "    # print(dataset_name)\n",
    "    total_df = pd.read_csv(phenoPATH + \"/\" + total_list[i])\n",
    "\n",
    "    train_df, test_df = train_test_split(total_df, test_size=0.10, random_state=12)\n",
    "    train_df, val_df = train_test_split(train_df, test_size=0.11, random_state=12)\n",
    "\n",
    "    print(dataset_name, len(train_df), len(test_df), len(val_df))\n",
    "\n",
    "    ax.hist(train_df[\"Age\"], bins=10, alpha=0.5, color='orange', label=\"Train\")\n",
    "    ax.hist(test_df[\"Age\"], bins=10, alpha=0.5, color='blue', label=\"Test\")\n",
    "    ax.hist(val_df[\"Age\"], bins=10, alpha=0.5, color='green', label=\"Val\")\n",
    "    ax.set_title(dataset_name)\n",
    " \n",
    "    # print(round(len(train_df) / len(total_df), 2), round(len(test_df) / len(total_df), 2), round(len(val_df) / len(total_df), 2))\n",
    "\n",
    "    # train_df.to_csv(phenoPATH + \"/\" + dataset_name + \"_Phenotype_train.csv\", index=False)\n",
    "    # test_df.to_csv(phenoPATH + \"/\" + dataset_name + \"_Phenotype_test.csv\", index=False)\n",
    "    # val_df.to_csv(phenoPATH + \"/\" + dataset_name + \"_Phenotype_val.csv\", index=False)"
   ]
  },
  {
   "cell_type": "code",
   "execution_count": null,
   "metadata": {},
   "outputs": [],
   "source": [
    "color = dist_colors\n",
    "fig, axs = plt.subplots(2,5 , figsize=(20, 8))\n",
    "\n",
    "for i, csvPATH in enumerate(total_list):\n",
    "    ax = axs[i//5, i%5]\n",
    "    csv = pd.read_csv(phenoPATH + \"/\" + csvPATH)\n",
    "    if csvPATH.split(\"_\")[0] == \"SLIM\":\n",
    "        ax.hist(csv[\"Age\"], bins=5, alpha=1, label=csvPATH.split(\"_\")[0], color=color[i])\n",
    "    else:\n",
    "        ax.hist(csv[\"Age\"], bins=5, alpha=1, label=csvPATH.split(\"_\")[0], color=color[i])\n",
    "    ax.set_title(csvPATH.split(\"_\")[0])\n",
    "    ax.set_xlim(0, 100)\n",
    "    ax.text(0.75, 0.8, f\"n={len(csv)}\", transform=ax.transAxes, bbox=dict(facecolor='white', alpha=0.8))\n",
    "\n",
    "plt.show()"
   ]
  },
  {
   "cell_type": "code",
   "execution_count": null,
   "metadata": {},
   "outputs": [],
   "source": []
  }
 ],
 "metadata": {
  "kernelspec": {
   "display_name": "sleep",
   "language": "python",
   "name": "python3"
  },
  "language_info": {
   "codemirror_mode": {
    "name": "ipython",
    "version": 3
   },
   "file_extension": ".py",
   "mimetype": "text/x-python",
   "name": "python",
   "nbconvert_exporter": "python",
   "pygments_lexer": "ipython3",
   "version": "3.8.16"
  },
  "orig_nbformat": 4
 },
 "nbformat": 4,
 "nbformat_minor": 2
}
