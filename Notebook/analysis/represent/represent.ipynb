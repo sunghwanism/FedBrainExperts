{
 "cells": [
  {
   "cell_type": "code",
   "execution_count": 1,
   "metadata": {},
   "outputs": [],
   "source": [
    "import os\n",
    "import sys\n",
    "sys.path.append(\"../../\")\n",
    "import argparse\n",
    "\n",
    "import pandas as pandas\n",
    "import numpy as np\n",
    "\n",
    "import torch\n",
    "import matplotlib.pyplot as plt\n",
    "\n",
    "from copy import deepcopy\n",
    "\n",
    "from utils import load_all_models, load_all_client_loader, vizualize_cka_model\n",
    "from src.simulator.utils import get_client_dataset\n",
    "from cka import CKACalculator\n",
    "\n",
    "import torch.nn as nn"
   ]
  },
  {
   "cell_type": "markdown",
   "metadata": {},
   "source": [
    "## Pre-setting"
   ]
  },
  {
   "cell_type": "code",
   "execution_count": 2,
   "metadata": {},
   "outputs": [],
   "source": [
    "# {model_type : best_model wandb id}\n",
    "model_type_dict = {\"Center\": \"sunny-serenity-1\",\n",
    "                   \"Local\": \"lunar-plant-1\",\n",
    "                   \"FedAvg\" : \"treasured-wildflower-4\",\n",
    "                   \"FedProx\": \"dainty-universe-2\",\n",
    "                   \"MOON\": \"whole-cosmos-7\",\n",
    "                   }\n",
    "BASE = \"/NFS/Users/moonsh/AdaptFL/ckpt/\"\n",
    "device = torch.device(\"cuda:0\")\n",
    "batch_size, worker = 256, 0"
   ]
  },
  {
   "cell_type": "code",
   "execution_count": null,
   "metadata": {},
   "outputs": [],
   "source": [
    "model_dict, config = load_all_models(model_type_dict, BASE, device, batch_size, worker)\n",
    "client_loader_list = load_all_client_loader(config)"
   ]
  },
  {
   "cell_type": "code",
   "execution_count": null,
   "metadata": {},
   "outputs": [],
   "source": [
    "vizualize_cka_model(model_dict, client_loader_list, device)"
   ]
  },
  {
   "cell_type": "code",
   "execution_count": null,
   "metadata": {},
   "outputs": [],
   "source": []
  },
  {
   "cell_type": "code",
   "execution_count": null,
   "metadata": {},
   "outputs": [],
   "source": []
  },
  {
   "cell_type": "code",
   "execution_count": null,
   "metadata": {},
   "outputs": [],
   "source": [
    "for i, name in enumerate(calculator.module_names_X):\n",
    "    print(f\"Layer {i}: \\t{name}\")"
   ]
  },
  {
   "cell_type": "code",
   "execution_count": null,
   "metadata": {},
   "outputs": [],
   "source": []
  },
  {
   "cell_type": "code",
   "execution_count": null,
   "metadata": {},
   "outputs": [],
   "source": []
  },
  {
   "cell_type": "code",
   "execution_count": 9,
   "metadata": {},
   "outputs": [],
   "source": [
    "def apply_important_weights(output, importance_weights):\n",
    "    return output * importance_weights\n",
    "\n",
    "# Hook으로 레이어의 출력을 추적하는 함수|\n",
    "def hook_fn(module, input, output):\n",
    "    # 가중치 곱하기 (중요한 가중치)\n",
    "    importance_weights = torch.ones_like(output) * 0.5  # 예시로 0.5를 곱함\n",
    "    modified_output = apply_important_weights(output, importance_weights)\n",
    "    return modified_output"
   ]
  },
  {
   "cell_type": "code",
   "execution_count": 10,
   "metadata": {},
   "outputs": [],
   "source": [
    "def register_hooks(model):\n",
    "    handles = []\n",
    "    for name, module in model.named_modules():\n",
    "        if isinstance(module, (nn.Conv3d, nn.Linear)):  # Conv3d와 Linear 레이어에서만 hook 등록\n",
    "            print(name)\n",
    "            handle = module.register_forward_hook(hook_fn)\n",
    "            handles.append(handle)\n",
    "    return handles"
   ]
  },
  {
   "cell_type": "code",
   "execution_count": null,
   "metadata": {},
   "outputs": [],
   "source": [
    "handles = register_hooks(model_dict[\"FedProx\"])"
   ]
  },
  {
   "cell_type": "code",
   "execution_count": null,
   "metadata": {},
   "outputs": [],
   "source": [
    "handles"
   ]
  },
  {
   "cell_type": "markdown",
   "metadata": {},
   "source": [
    "## Overall Analysis"
   ]
  },
  {
   "cell_type": "code",
   "execution_count": null,
   "metadata": {},
   "outputs": [],
   "source": [
    "calculator = CKACalculator(model1=model1, model2=model2, dataloader=temp_loader)"
   ]
  },
  {
   "cell_type": "code",
   "execution_count": null,
   "metadata": {},
   "outputs": [],
   "source": [
    "cka_output = calculator.calculate_cka_matrix()\n",
    "print(f\"CKA output size: {cka_output.size()}\")"
   ]
  },
  {
   "cell_type": "code",
   "execution_count": null,
   "metadata": {},
   "outputs": [],
   "source": [
    "# Extract the layer names\n",
    "for i, name in enumerate(calculator.module_names_X):\n",
    "    print(f\"Layer {i}: \\t{name}\")"
   ]
  },
  {
   "cell_type": "code",
   "execution_count": null,
   "metadata": {},
   "outputs": [],
   "source": [
    "cka_output = calculator.calculate_cka_matrix()\n",
    "print(f\"CKA output size: {cka_output.size()}\")\n",
    "\n",
    "plt.imshow(cka_output.cpu().numpy(), cmap='inferno')"
   ]
  },
  {
   "cell_type": "code",
   "execution_count": null,
   "metadata": {},
   "outputs": [],
   "source": []
  },
  {
   "cell_type": "markdown",
   "metadata": {},
   "source": [
    "## Analaysis per Layer"
   ]
  },
  {
   "cell_type": "code",
   "execution_count": 11,
   "metadata": {},
   "outputs": [],
   "source": [
    "layers = (nn.Conv2d, nn.BatchNorm2d)"
   ]
  },
  {
   "cell_type": "code",
   "execution_count": null,
   "metadata": {},
   "outputs": [],
   "source": [
    "calculator.reset()\n",
    "calculator = CKACalculator(model1=model1, model2=model2, dataloader=temp_loader,\n",
    "                           hook_layer_types=layers)\n"
   ]
  },
  {
   "cell_type": "code",
   "execution_count": null,
   "metadata": {},
   "outputs": [],
   "source": [
    "cka_output = calculator.calculate_cka_matrix()\n",
    "plt.imshow(cka_output.cpu().numpy(), cmap='inferno')"
   ]
  },
  {
   "cell_type": "code",
   "execution_count": null,
   "metadata": {},
   "outputs": [],
   "source": []
  },
  {
   "cell_type": "code",
   "execution_count": null,
   "metadata": {},
   "outputs": [],
   "source": [
    "# Extract the layer names\n",
    "for i, name in enumerate(calculator.module_names_X):\n",
    "    print(f\"Layer {i}: \\t{name}\")"
   ]
  }
 ],
 "metadata": {
  "kernelspec": {
   "display_name": "AdaptFL",
   "language": "python",
   "name": "python3"
  },
  "language_info": {
   "codemirror_mode": {
    "name": "ipython",
    "version": 3
   },
   "file_extension": ".py",
   "mimetype": "text/x-python",
   "name": "python",
   "nbconvert_exporter": "python",
   "pygments_lexer": "ipython3",
   "version": "3.9.20"
  }
 },
 "nbformat": 4,
 "nbformat_minor": 2
}
