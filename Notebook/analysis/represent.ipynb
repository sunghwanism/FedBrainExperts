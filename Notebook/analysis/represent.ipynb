{
 "cells": [
  {
   "cell_type": "code",
   "execution_count": 1,
   "metadata": {},
   "outputs": [],
   "source": [
    "import os\n",
    "import sys\n",
    "sys.path.append(\"../../\")\n",
    "import argparse\n",
    "\n",
    "import pandas as pandas\n",
    "import numpy as np\n",
    "\n",
    "import torch\n",
    "import matplotlib.pyplot as plt\n",
    "\n",
    "from copy import deepcopy\n",
    "\n",
    "from utils import load_config, load_model\n",
    "from src.simulator.utils import get_client_dataset\n",
    "from cka import CKACalculator\n",
    "\n",
    "import torch.nn as nn"
   ]
  },
  {
   "cell_type": "markdown",
   "metadata": {},
   "source": [
    "## Pre-setting"
   ]
  },
  {
   "cell_type": "code",
   "execution_count": 2,
   "metadata": {},
   "outputs": [],
   "source": [
    "agg_method = 'Center'\n",
    "proj_name = 'sunny-serenity-1'\n",
    "ckptPATH = f'/NFS/Users/moonsh/AdaptFL/ckpt/{agg_method}/{proj_name}' # 'Z://Users/moonsh/AdaptFL/ckpt'\n",
    "\n",
    "config = load_config(ckptPATH, proj_name)\n",
    "config['batch_size'] = 64\n",
    "config['num_workers'] = 4\n",
    "config['nowandb'] = True\n",
    "\n",
    "config = argparse.Namespace(**config)"
   ]
  },
  {
   "cell_type": "code",
   "execution_count": 3,
   "metadata": {},
   "outputs": [],
   "source": [
    "main_name = proj_name.split('-')[1]\n",
    "device = torch.device(\"cuda:0\")\n",
    "\n",
    "model_name = 'Center_best_model.pth'\n",
    "glob_model, loc_model_dict = load_model(model_name, ckptPATH, config, device)"
   ]
  },
  {
   "cell_type": "code",
   "execution_count": 4,
   "metadata": {},
   "outputs": [],
   "source": [
    "TestDataset_dict = get_client_dataset(config, config.num_clients, \n",
    "                                    _mode='test', verbose=False, \n",
    "                                    PATH=config.data_path,\n",
    "                                    get_info=True)\n",
    "\n",
    "temp_loader = torch.utils.data.DataLoader(TestDataset_dict[0],\n",
    "                                          batch_size=4, shuffle=False,\n",
    "                                          num_workers=0)"
   ]
  },
  {
   "cell_type": "code",
   "execution_count": 6,
   "metadata": {},
   "outputs": [],
   "source": [
    "model1 = glob_model\n",
    "model2 = deepcopy(glob_model)\n",
    "# model2.load_state_dict(loc_model_dict[0], strict=False)"
   ]
  },
  {
   "cell_type": "code",
   "execution_count": null,
   "metadata": {},
   "outputs": [],
   "source": [
    "prev_name = \"layer\"\n",
    "\n",
    "for name, child in model1.named_children():\n",
    "    print(child)"
   ]
  },
  {
   "cell_type": "code",
   "execution_count": 11,
   "metadata": {},
   "outputs": [],
   "source": [
    "def apply_important_weights(output, importance_weights):\n",
    "    return output * importance_weights\n",
    "\n",
    "# Hook으로 레이어의 출력을 추적하는 함수\n",
    "def hook_fn(module, input, output):\n",
    "    # 가중치 곱하기 (중요한 가중치)\n",
    "    importance_weights = torch.ones_like(output) * 0.5  # 예시로 0.5를 곱함\n",
    "    modified_output = apply_important_weights(output, importance_weights)\n",
    "    return modified_output"
   ]
  },
  {
   "cell_type": "code",
   "execution_count": 17,
   "metadata": {},
   "outputs": [],
   "source": [
    "def register_hooks(model):\n",
    "    handles = []\n",
    "    for name, module in model.named_modules():\n",
    "        if isinstance(module, (nn.Conv3d, nn.Linear)):  # Conv3d와 Linear 레이어에서만 hook 등록\n",
    "            print(name)\n",
    "            handle = module.register_forward_hook(hook_fn)\n",
    "            handles.append(handle)\n",
    "    return handles"
   ]
  },
  {
   "cell_type": "code",
   "execution_count": null,
   "metadata": {},
   "outputs": [],
   "source": [
    "handles = register_hooks(model1)"
   ]
  },
  {
   "cell_type": "code",
   "execution_count": null,
   "metadata": {},
   "outputs": [],
   "source": [
    "handles"
   ]
  },
  {
   "cell_type": "markdown",
   "metadata": {},
   "source": [
    "## Overall Analysis"
   ]
  },
  {
   "cell_type": "code",
   "execution_count": null,
   "metadata": {},
   "outputs": [],
   "source": [
    "calculator = CKACalculator(model1=model1, model2=model2, dataloader=temp_loader)"
   ]
  },
  {
   "cell_type": "code",
   "execution_count": null,
   "metadata": {},
   "outputs": [],
   "source": [
    "cka_output = calculator.calculate_cka_matrix()\n",
    "print(f\"CKA output size: {cka_output.size()}\")"
   ]
  },
  {
   "cell_type": "code",
   "execution_count": null,
   "metadata": {},
   "outputs": [],
   "source": [
    "# Extract the layer names\n",
    "for i, name in enumerate(calculator.module_names_X):\n",
    "    print(f\"Layer {i}: \\t{name}\")"
   ]
  },
  {
   "cell_type": "code",
   "execution_count": null,
   "metadata": {},
   "outputs": [],
   "source": [
    "cka_output = calculator.calculate_cka_matrix()\n",
    "print(f\"CKA output size: {cka_output.size()}\")\n",
    "\n",
    "plt.imshow(cka_output.cpu().numpy(), cmap='inferno')"
   ]
  },
  {
   "cell_type": "code",
   "execution_count": null,
   "metadata": {},
   "outputs": [],
   "source": []
  },
  {
   "cell_type": "markdown",
   "metadata": {},
   "source": [
    "## Analaysis per Layer"
   ]
  },
  {
   "cell_type": "code",
   "execution_count": 11,
   "metadata": {},
   "outputs": [],
   "source": [
    "layers = (nn.Conv2d, nn.BatchNorm2d)"
   ]
  },
  {
   "cell_type": "code",
   "execution_count": null,
   "metadata": {},
   "outputs": [],
   "source": [
    "calculator.reset()\n",
    "calculator = CKACalculator(model1=model1, model2=model2, dataloader=temp_loader,\n",
    "                           hook_layer_types=layers)\n"
   ]
  },
  {
   "cell_type": "code",
   "execution_count": null,
   "metadata": {},
   "outputs": [],
   "source": [
    "cka_output = calculator.calculate_cka_matrix()\n",
    "plt.imshow(cka_output.cpu().numpy(), cmap='inferno')"
   ]
  },
  {
   "cell_type": "code",
   "execution_count": null,
   "metadata": {},
   "outputs": [],
   "source": []
  },
  {
   "cell_type": "code",
   "execution_count": null,
   "metadata": {},
   "outputs": [],
   "source": [
    "# Extract the layer names\n",
    "for i, name in enumerate(calculator.module_names_X):\n",
    "    print(f\"Layer {i}: \\t{name}\")"
   ]
  }
 ],
 "metadata": {
  "kernelspec": {
   "display_name": "AdaptFL",
   "language": "python",
   "name": "python3"
  },
  "language_info": {
   "codemirror_mode": {
    "name": "ipython",
    "version": 3
   },
   "file_extension": ".py",
   "mimetype": "text/x-python",
   "name": "python",
   "nbconvert_exporter": "python",
   "pygments_lexer": "ipython3",
   "version": "3.9.20"
  }
 },
 "nbformat": 4,
 "nbformat_minor": 2
}
