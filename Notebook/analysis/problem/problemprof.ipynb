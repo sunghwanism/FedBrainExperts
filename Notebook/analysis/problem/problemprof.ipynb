{
 "cells": [
  {
   "cell_type": "code",
   "execution_count": null,
   "metadata": {},
   "outputs": [],
   "source": [
    "import os\n",
    "import sys\n",
    "sys.path.append(\"../../\")\n",
    "\n",
    "import pandas as pd\n",
    "import numpy as np\n",
    "\n",
    "import torch\n",
    "import matplotlib.pyplot as plt\n",
    "\n",
    "from copy import deepcopy\n",
    "\n",
    "from analysis.Inference.utils import load_all_models, load_all_client_loader\n",
    "from probutils import vizualize_cka_model\n",
    "from cka import CKACalculator\n",
    "\n",
    "import torch.nn as nn\n",
    "\n",
    "import seaborn as sns\n",
    "\n",
    "import warnings\n",
    "warnings.filterwarnings(\"ignore\")"
   ]
  },
  {
   "cell_type": "code",
   "execution_count": null,
   "metadata": {},
   "outputs": [],
   "source": [
    "# {model_type : [best_model wandb id, best_model round]}\n",
    "model_type_dict = {\"Center\": ['sinister-pulse-2', -1], # No need to specify epoch\n",
    "                   \"Local\": [\"lurking-apparition-2\", -1], # No need to specify epoch\n",
    "                   \"FedAvg\" : [\"silvery-dragon-1\", -1],\n",
    "                   \"FedProx\": [\"glorious-mountain-3\", -1],  \n",
    "                   \"MOON\": [\"fancy-frog-10\", -1]\n",
    "                   }\n",
    "BASE = \"/NFS/Users/moonsh/AdaptFL/ckpt/\"\n",
    "device = torch.device(\"cuda:0\")\n",
    "batch_size, worker = 66, 0"
   ]
  },
  {
   "cell_type": "code",
   "execution_count": null,
   "metadata": {},
   "outputs": [],
   "source": [
    "model_dict, config = load_all_models(model_type_dict, BASE, device, batch_size, worker)\n",
    "\n",
    "config.data_path = '/NFS/Users/moonsh/data/FLData/'\n",
    "\n",
    "(train_client_list, \n",
    " val_client_list, \n",
    " test_client_list) = load_all_client_loader(config, _mode='all')\n",
    "\n",
    "savepath = '/NFS/Users/moonsh/AdaptFL/result/'"
   ]
  },
  {
   "cell_type": "code",
   "execution_count": null,
   "metadata": {},
   "outputs": [],
   "source": [
    "concat_client_list = []\n",
    "\n",
    "for val, test in zip(val_client_list, test_client_list):\n",
    "    concat_dataset = val.dataset+test.dataset\n",
    "    concat_loader = torch.utils.data.DataLoader(concat_dataset, batch_size=batch_size, shuffle=False)\n",
    "    concat_client_list.append(concat_loader)\n",
    "\n",
    "print(np.array(concat_client_list).shape)"
   ]
  },
  {
   "cell_type": "code",
   "execution_count": null,
   "metadata": {},
   "outputs": [],
   "source": [
    "vizualize_cka_model(model_dict,\n",
    "                    test_client_list,\n",
    "                    device=device,\n",
    "                    criterion='Local',)"
   ]
  },
  {
   "cell_type": "code",
   "execution_count": null,
   "metadata": {},
   "outputs": [],
   "source": [
    "vizualize_cka_model(model_dict,\n",
    "                    test_client_list,\n",
    "                    device=device,\n",
    "                    criterion='Center',)"
   ]
  },
  {
   "cell_type": "code",
   "execution_count": null,
   "metadata": {},
   "outputs": [],
   "source": []
  },
  {
   "cell_type": "markdown",
   "metadata": {},
   "source": [
    "## CKA Calculator Demo"
   ]
  },
  {
   "cell_type": "code",
   "execution_count": null,
   "metadata": {},
   "outputs": [],
   "source": []
  },
  {
   "cell_type": "code",
   "execution_count": null,
   "metadata": {},
   "outputs": [],
   "source": [
    "# temp_loader = val_client_list[0]\n",
    "\n",
    "# calculator = CKACalculator(model1=model_dict['Center'].to(device),\n",
    "#                            model2=model_dict['FedAvg'].to(device),\n",
    "#                            dataloader=temp_loader,\n",
    "#                            hook_layer_types=(nn.Conv3d, nn.Conv2d), # dummy_val: nn.Conv2d\n",
    "#                            num_epochs=1,\n",
    "#                            epsilon=1e-10)\n",
    "\n",
    "# cka_output = calculator.calculate_cka_matrix().cpu().detach().numpy()\n",
    "# cka_output = np.diag(cka_output)"
   ]
  },
  {
   "cell_type": "code",
   "execution_count": null,
   "metadata": {},
   "outputs": [],
   "source": [
    "# # Extract the layer names\n",
    "# except_layer = []\n",
    "# print(len(calculator.module_names_X))\n",
    "# for i, name in enumerate(calculator.module_names_X):\n",
    "#     if 'down'in name:\n",
    "#         except_layer.append(i)\n",
    "#     # print(f\"{name}\")"
   ]
  },
  {
   "cell_type": "code",
   "execution_count": null,
   "metadata": {},
   "outputs": [],
   "source": [
    "# cka_output = np.delete(cka_output, except_layer)"
   ]
  },
  {
   "cell_type": "code",
   "execution_count": null,
   "metadata": {},
   "outputs": [],
   "source": []
  }
 ],
 "metadata": {
  "kernelspec": {
   "display_name": "AdaptFL",
   "language": "python",
   "name": "python3"
  },
  "language_info": {
   "codemirror_mode": {
    "name": "ipython",
    "version": 3
   },
   "file_extension": ".py",
   "mimetype": "text/x-python",
   "name": "python",
   "nbconvert_exporter": "python",
   "pygments_lexer": "ipython3",
   "version": "3.9.20"
  }
 },
 "nbformat": 4,
 "nbformat_minor": 2
}
