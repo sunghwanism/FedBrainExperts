{
 "cells": [
  {
   "cell_type": "code",
   "execution_count": 1,
   "metadata": {},
   "outputs": [],
   "source": [
    "import os\n",
    "import sys\n",
    "sys.path.append(\"../../\")\n",
    "\n",
    "import pandas as pandas\n",
    "import numpy as np\n",
    "\n",
    "import torch\n",
    "import matplotlib.pyplot as plt\n",
    "\n",
    "from copy import deepcopy\n",
    "\n",
    "from utils import load_all_models, load_all_client_loader, get_client_result\n",
    "from src.simulator.utils import get_client_dataset, get_key_by_value\n",
    "from src.data.DataList import dataset_dict\n",
    "\n",
    "import torch.nn as nn\n",
    "\n",
    "import seaborn as sns\n",
    "\n",
    "import warnings\n",
    "warnings.filterwarnings(\"ignore\")"
   ]
  },
  {
   "cell_type": "code",
   "execution_count": 2,
   "metadata": {},
   "outputs": [],
   "source": [
    "# {model_type : [best_model wandb id, best_model round]}\n",
    "model_type_dict = {\"Center\": [\"dandy-shadow-1\", -1], # No need to specify epoch\n",
    "                   \"Local\": [\"skilled-bee-1\", -1], # No need to specify epoch\n",
    "                   \"FedAvg\" : [\"fresh-feather-2\", 53],\n",
    "                   \"FedProx\": [\"glorious-capybara-5\", 88],  \n",
    "                   \"MOON\": [\"iconic-rain-9\", 59]\n",
    "                   }\n",
    "BASE = \"/NFS/Users/moonsh/AdaptFL/ckpt/\"\n",
    "device = torch.device(\"cuda:3\")\n",
    "batch_size, worker = 16, 0"
   ]
  },
  {
   "cell_type": "code",
   "execution_count": null,
   "metadata": {},
   "outputs": [],
   "source": [
    "model_dict, config = load_all_models(model_type_dict, BASE, device, batch_size, worker)\n",
    "\n",
    "\n",
    "(train_client_list, \n",
    " val_client_list, \n",
    " test_client_list) = load_all_client_loader(config, _mode='all')\n",
    "\n",
    "savepath = '/NFS/Users/moonsh/AdaptFL/result/'"
   ]
  },
  {
   "cell_type": "code",
   "execution_count": 4,
   "metadata": {},
   "outputs": [],
   "source": [
    "result_dict = {}\n",
    "for client_idx in range(len(train_client_list)):\n",
    "\n",
    "    mae_dict = get_client_result(client_idx, model_dict, \n",
    "                                  train_client_list, val_client_list, test_client_list, \n",
    "                                  device, savepath, model_type_dict)\n",
    "    result_dict[client_idx] = mae_dict"
   ]
  },
  {
   "cell_type": "code",
   "execution_count": null,
   "metadata": {},
   "outputs": [],
   "source": [
    "fig, axs = plt.subplots(2, 5, figsize=(25, 10))\n",
    "\n",
    "model_type = model_type_dict.keys()\n",
    "\n",
    "for client_idx in range(len(train_client_list)):\n",
    "    bar_list = []\n",
    "    keys = []\n",
    "    for idx, _type in enumerate(model_type):\n",
    "        ax = axs[client_idx//5][client_idx%5]\n",
    "\n",
    "        if _type == \"Center\":\n",
    "            ax.axhline(result_dict[client_idx][_type], label=_type, color='red', linestyle='--', linewidth=2)\n",
    "        elif _type == \"Local\":\n",
    "            ax.axhline(result_dict[client_idx][_type], label=_type, color='blue', linestyle='--', linewidth=2)\n",
    "        \n",
    "        else:\n",
    "            bar_list.append(result_dict[client_idx][_type])\n",
    "            keys.append(_type)\n",
    "    \n",
    "    colors = sns.color_palette('Set3', len(bar_list))\n",
    "\n",
    "    ax.bar(keys, bar_list, color=colors)\n",
    "    ax.set_ylim(0, np.array(bar_list).max()*1.5)\n",
    "    ax.set_xticklabels(keys, rotation=45, fontsize=15)\n",
    "    ax.set_title(f\"Client {client_idx} ({get_key_by_value(dataset_dict, client_idx)})\", fontsize=20)\n",
    "    ax.legend(fontsize=15, loc='upper right')\n",
    "\n",
    "\n",
    "plt.tight_layout()\n",
    "plt.show()"
   ]
  },
  {
   "cell_type": "code",
   "execution_count": null,
   "metadata": {},
   "outputs": [],
   "source": []
  }
 ],
 "metadata": {
  "kernelspec": {
   "display_name": "AdaptFL",
   "language": "python",
   "name": "python3"
  },
  "language_info": {
   "codemirror_mode": {
    "name": "ipython",
    "version": 3
   },
   "file_extension": ".py",
   "mimetype": "text/x-python",
   "name": "python",
   "nbconvert_exporter": "python",
   "pygments_lexer": "ipython3",
   "version": "3.9.20"
  }
 },
 "nbformat": 4,
 "nbformat_minor": 2
}
