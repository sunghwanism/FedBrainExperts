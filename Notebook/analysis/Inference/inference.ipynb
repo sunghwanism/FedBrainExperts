{
 "cells": [
  {
   "cell_type": "code",
   "execution_count": 1,
   "metadata": {},
   "outputs": [],
   "source": [
    "import os\n",
    "import sys\n",
    "sys.path.append(\"../../\")\n",
    "\n",
    "import pandas as pandas\n",
    "import numpy as np\n",
    "\n",
    "import torch\n",
    "import matplotlib.pyplot as plt\n",
    "\n",
    "from copy import deepcopy\n",
    "\n",
    "from utils import load_all_models, load_all_client_loader, get_client_result\n",
    "from src.simulator.utils import get_client_dataset\n",
    "\n",
    "import torch.nn as nn"
   ]
  },
  {
   "cell_type": "code",
   "execution_count": 2,
   "metadata": {},
   "outputs": [],
   "source": [
    "# {model_type : best_model wandb id}\n",
    "model_type_dict = {\"Center\": \"sunny-serenity-1\",\n",
    "                   \"Local\": \"lunar-plant-1\",\n",
    "                   \"FedAvg\" : \"treasured-wildflower-4\",\n",
    "                   \"FedProx\": \"swift-thunder-16\",\n",
    "                   \"MOON\": \"whole-cosmos-7\",\n",
    "                   }\n",
    "BASE = \"/NFS/Users/moonsh/AdaptFL/ckpt/\"\n",
    "device = torch.device(\"cuda:1\")\n",
    "batch_size, worker = 16, 0"
   ]
  },
  {
   "cell_type": "code",
   "execution_count": null,
   "metadata": {},
   "outputs": [],
   "source": [
    "model_dict, config = load_all_models(model_type_dict, BASE, device, batch_size, worker)\n",
    "\n",
    "\n",
    "(train_client_list, \n",
    " val_client_list, \n",
    " test_client_list) = load_all_client_loader(config, _mode='all')\n",
    "\n",
    "savepath = '/NFS/Users/moonsh/AdaptFL/result/'"
   ]
  },
  {
   "cell_type": "code",
   "execution_count": 4,
   "metadata": {},
   "outputs": [],
   "source": [
    "result_dict = {}\n",
    "for client_idx in range(len(train_client_list)):\n",
    "\n",
    "    mae_dict = get_client_result(client_idx, model_dict, \n",
    "                                  train_client_list, val_client_list, test_client_list, \n",
    "                                  device, savepath, model_type_dict)\n",
    "    result_dict[client_idx] = mae_dict"
   ]
  },
  {
   "cell_type": "code",
   "execution_count": null,
   "metadata": {},
   "outputs": [],
   "source": []
  },
  {
   "cell_type": "code",
   "execution_count": null,
   "metadata": {},
   "outputs": [],
   "source": []
  }
 ],
 "metadata": {
  "kernelspec": {
   "display_name": "AdaptFL",
   "language": "python",
   "name": "python3"
  },
  "language_info": {
   "codemirror_mode": {
    "name": "ipython",
    "version": 3
   },
   "file_extension": ".py",
   "mimetype": "text/x-python",
   "name": "python",
   "nbconvert_exporter": "python",
   "pygments_lexer": "ipython3",
   "version": "3.9.20"
  }
 },
 "nbformat": 4,
 "nbformat_minor": 2
}
